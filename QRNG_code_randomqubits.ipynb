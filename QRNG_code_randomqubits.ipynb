{
 "cells": [
  {
   "cell_type": "markdown",
   "id": "3098a0ce",
   "metadata": {},
   "source": [
    "## Team: Random Qubits\n",
    "##### Challenge: Random-number-generation-using-boson-sampling---ORCA-Computing\n",
    "##### Members: Soubhadra Maiti, Owais Ishtiaq Siddiqui, Suzielli Mendonça, Zeynep Kılıç\n",
    "##### Authors of code file: Soubhadra Maiti, Owais Ishtiaq Siddiqui"
   ]
  },
  {
   "cell_type": "code",
   "execution_count": 1,
   "id": "ffd09127",
   "metadata": {},
   "outputs": [],
   "source": [
    "import xcc\n",
    "xcc.Settings(REFRESH_TOKEN=\"eyJhbGciOiJIUzI1NiIsInR5cCIgOiAiSldUIiwia2lkIiA6ICIwYTdjOGE5Yi1lMzdkLTQ0MzItOTU2OC0xNzI3YzEwNmYyMzEifQ.eyJpYXQiOjE2NjEyNTk0MDYsImp0aSI6IjA4OTVkYWE1LWFmOTYtNGQ1Ni05NDg0LTE4Yjk3Mjk1MTY4MCIsImlzcyI6Imh0dHBzOi8vcGxhdGZvcm0ueGFuYWR1LmFpL2F1dGgvcmVhbG1zL3BsYXRmb3JtIiwiYXVkIjoiaHR0cHM6Ly9wbGF0Zm9ybS54YW5hZHUuYWkvYXV0aC9yZWFsbXMvcGxhdGZvcm0iLCJzdWIiOiJlOGUwZjA5Mi0zZTNlLTQwNjYtYjZmMC02MGU2ZWM5NDk5M2UiLCJ0eXAiOiJPZmZsaW5lIiwiYXpwIjoicHVibGljIiwic2Vzc2lvbl9zdGF0ZSI6IjA2NDQwMzk2LWU0YjgtNDJhZi1hMjM5LTk4YzgxZjViNmI3YSIsInNjb3BlIjoicHVibGljLXJvbGVzIHByb2ZpbGUgZW1haWwgb2ZmbGluZV9hY2Nlc3MiLCJzaWQiOiIwNjQ0MDM5Ni1lNGI4LTQyYWYtYTIzOS05OGM4MWY1YjZiN2EifQ.eNqsxqnW_SZRDArqjI3lfamj0SaijF6XBeAfLUqnbVE\").save()\n"
   ]
  },
  {
   "cell_type": "code",
   "execution_count": 2,
   "id": "80e83314",
   "metadata": {},
   "outputs": [
    {
     "data": {
      "text/plain": [
       "'Successfully connected to the Xanadu Cloud.'"
      ]
     },
     "execution_count": 2,
     "metadata": {},
     "output_type": "execute_result"
    }
   ],
   "source": [
    "import xcc.commands\n",
    "xcc.commands.ping()"
   ]
  },
  {
   "cell_type": "markdown",
   "id": "17d1c3ec",
   "metadata": {},
   "source": [
    "### Define functions that outputs a random number & von neuman post-processing\n",
    "```qrng_func()``` and ```von_neuman_post_proc(a,b)```, respectively.\n",
    "We work with $4$ modes and our initial state is $|1101\\rangle$.\n",
    "We pass it through $6$ modes beam splitters measure the outputs at the end. Here, we count the number of photons in each mode."
   ]
  },
  {
   "cell_type": "markdown",
   "id": "17ef29e5",
   "metadata": {},
   "source": [
    "Here we have used a simulated boson sampler to run the process. To run the same on the Xanadu boson sampler available on the cloud, include the code ```eng = sf.RemoteEngine(\"X8\")```"
   ]
  },
  {
   "cell_type": "code",
   "execution_count": 3,
   "id": "a19b3247",
   "metadata": {},
   "outputs": [],
   "source": [
    "import numpy as np\n",
    "import strawberryfields as sf\n",
    "from strawberryfields.ops import *\n",
    "n_modes = 4     # number of modes\n",
    "\n",
    "# define a function that outputs a random number\n",
    "def qrng_func():\n",
    "    prog = sf.Program(n_modes)\n",
    "    eng = sf.Engine(\"fock\", backend_options={\"cutoff_dim\": 6})\n",
    "    #eng = sf.RemoteEngine(\"X8\")\n",
    "    with prog.context as q:\n",
    "        Fock(1) | q[0]\n",
    "        Fock(1) | q[1]\n",
    "        Vac | q[2]\n",
    "        Fock(1) | q[3]\n",
    "        BSgate()  | (q[0], q[1])\n",
    "        BSgate()  | (q[1], q[2])\n",
    "        BSgate()  | (q[2], q[3])\n",
    "        BSgate()  | (q[0], q[1])\n",
    "        BSgate()  | (q[1], q[2])\n",
    "        BSgate()  | (q[2], q[3])\n",
    "        MeasureFock() | (q[0], q[1], q[2], q[3])\n",
    "\n",
    "    results = eng.run(prog)\n",
    "    return(results.samples)\n",
    "\n",
    "#define function for von neuman post-processing\n",
    "def von_neuman_post_proc(a,b):\n",
    "    c = []\n",
    "    for i in range(len(a)):\n",
    "        if a[i] < b[i]:\n",
    "            c.append(1)\n",
    "        elif a[i] > b[i]:\n",
    "            c.append(0)\n",
    "    \n",
    "    number = str()\n",
    "    if len(c) == 0:\n",
    "        number = str(0)\n",
    "    else:\n",
    "        for i in range(len(c)):\n",
    "            number = number + str(c[i])\n",
    "    return number        # output is a binary string"
   ]
  },
  {
   "cell_type": "markdown",
   "id": "814c9fe0",
   "metadata": {},
   "source": [
    "### Obtain a random number\n",
    "```sample1``` and ```sample2``` are the outputs from two measurements.\n",
    "To generate an unbiased random string of $1$s and $0$s, we perform von neuman post-processing."
   ]
  },
  {
   "cell_type": "code",
   "execution_count": 4,
   "id": "9fe7d293",
   "metadata": {},
   "outputs": [
    {
     "name": "stdout",
     "output_type": "stream",
     "text": [
      "[0, 1, 0, 2]\n",
      "[0, 0, 3, 0]\n",
      "\n",
      "A random number in binary basis is : 010\n",
      "The random number in decimal is : 2\n"
     ]
    }
   ],
   "source": [
    "r1 = qrng_func()\n",
    "r2 = qrng_func()\n",
    "sample1 = r1[0].tolist()     #Sample 1\n",
    "sample2 = r2[0].tolist()     #Sample 2\n",
    "\n",
    "# print the samples\n",
    "print(sample1)\n",
    "print(sample2)\n",
    "\n",
    "# obtain random number (binary) after von neuman post processing\n",
    "number = von_neuman_post_proc(sample1, sample2)\n",
    "decimal_number = int(number,2)\n",
    "print('')\n",
    "# print random numer in binary\n",
    "print('A random number in binary basis is :', number )      \n",
    "# print that random numer in decimal\n",
    "print('The random number in decimal is :', decimal_number )"
   ]
  },
  {
   "cell_type": "markdown",
   "id": "a0221a44",
   "metadata": {},
   "source": [
    "### Increase the range of random numbers using samples with more than 4 bits\n",
    "This is done to obtain random numbers from a broader range. We can extend by using more bits. Below is an example using 8 bits"
   ]
  },
  {
   "cell_type": "code",
   "execution_count": 5,
   "id": "5cb1557f",
   "metadata": {},
   "outputs": [
    {
     "name": "stdout",
     "output_type": "stream",
     "text": [
      "[0, 0, 1, 2, 1, 0, 2, 0]\n",
      "[1, 1, 0, 1, 0, 2, 0, 1]\n",
      "\n",
      "A random number in binary basis is : 11000101\n",
      "The random number in decimal is : 197\n"
     ]
    }
   ],
   "source": [
    "# increase the span of random numbers using samples with more than 4 bits\n",
    "\n",
    "sample1_8bit = qrng_func()[0].tolist() + qrng_func()[0].tolist()\n",
    "sample2_8bit = qrng_func()[0].tolist() + qrng_func()[0].tolist()\n",
    "# print the samples\n",
    "print(sample1_8bit)\n",
    "print(sample2_8bit)\n",
    "\n",
    "number = von_neuman_post_proc(sample1_8bit, sample2_8bit)\n",
    "decimal_number = int(number,2)\n",
    "print('')\n",
    "# print random numer in binary\n",
    "print('A random number in binary basis is :', number )      \n",
    "# print that random numer in decimal\n",
    "print('The random number in decimal is :', decimal_number )"
   ]
  },
  {
   "cell_type": "markdown",
   "id": "5390ccc7",
   "metadata": {},
   "source": [
    "### Repeat this process many times to build up a distribution of the samples.\n",
    "Obtain the Shannon entropy of the distribution."
   ]
  },
  {
   "cell_type": "code",
   "execution_count": 6,
   "id": "2baae8df",
   "metadata": {},
   "outputs": [
    {
     "name": "stdout",
     "output_type": "stream",
     "text": [
      "Random numbers: [5, 1, 14, 9, 2, 0, 6, 3, 12, 4, 10]\n",
      "Corresponding probabilities: [0.06, 0.3, 0.01, 0.01, 0.27, 0.09, 0.06, 0.08, 0.04, 0.04, 0.04]\n",
      "\n",
      "The entropy of the distribution is : 1.9494630227318759\n"
     ]
    },
    {
     "data": {
      "image/png": "[encoded data removed]",
      "text/plain": [
       "<Figure size 432x288 with 1 Axes>"
      ]
     },
     "metadata": {
      "needs_background": "light"
     },
     "output_type": "display_data"
    }
   ],
   "source": [
    "# Now make a list of random numbers which are outputs of our code,\n",
    "# to obtain the probabilities and entropy\n",
    "L = []\n",
    "number_of_iterations = 100\n",
    "for i in range(number_of_iterations):\n",
    "    sample1 = qrng_func()[0].tolist()     #Sample 1\n",
    "    sample2 = qrng_func()[0].tolist()     #Sample 2\n",
    "    number = von_neuman_post_proc(sample1, sample2)\n",
    "    decimal_number = int(number,2)\n",
    "    L.append(decimal_number)\n",
    "#L = list of random outputs\n",
    "\n",
    "from collections import Counter\n",
    "counts = Counter(L)\n",
    "# list containing random numbers and number of occurances\n",
    "mylist = np.array(list(counts.items()))    \n",
    "\n",
    "x = []\n",
    "y = []\n",
    "for i in range(len(mylist)):\n",
    "    x.append(mylist[i][0])\n",
    "    y.append(mylist[i][1]/number_of_iterations)\n",
    "import matplotlib.pyplot as plt\n",
    "#plt.hist(counts)\n",
    "plt.bar(x,y)\n",
    "plt.xlabel('Random numbers')\n",
    "plt.ylabel('Probability')\n",
    "print('Random numbers:', x)         # random numbers\n",
    "print('Corresponding probabilities:', y)         # corresponding probabilities\n",
    "print('')\n",
    "from scipy.stats import entropy\n",
    "print('The entropy of the distribution is :', entropy(y))       # entropy"
   ]
  },
  {
   "cell_type": "code",
   "execution_count": null,
   "id": "2b61d9ef",
   "metadata": {},
   "outputs": [],
   "source": []
  }
 ],
 "metadata": {
  "kernelspec": {
   "display_name": "Python 3 (ipykernel)",
   "language": "python",
   "name": "python3"
  },
  "language_info": {
   "codemirror_mode": {
    "name": "ipython",
    "version": 3
   },
   "file_extension": ".py",
   "mimetype": "text/x-python",
   "name": "python",
   "nbconvert_exporter": "python",
   "pygments_lexer": "ipython3",
   "version": "3.9.7"
  }
 },
 "nbformat": 4,
 "nbformat_minor": 5
}
